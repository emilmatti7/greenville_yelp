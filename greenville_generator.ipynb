{
 "cells": [
  {
   "cell_type": "code",
   "execution_count": 7,
   "id": "020ae72a",
   "metadata": {},
   "outputs": [],
   "source": [
    "import pandas as pd\n",
    "import numpy as np\n",
    "import requests as r\n",
    "from itertools import product"
   ]
  },
  {
   "cell_type": "markdown",
   "id": "08aed5bc",
   "metadata": {},
   "source": [
    "# Grab Data From Yelp's API"
   ]
  },
  {
   "cell_type": "code",
   "execution_count": 8,
   "id": "10054e85",
   "metadata": {},
   "outputs": [],
   "source": [
    "# Define credentials\n",
    "url = 'https://api.yelp.com/v3/businesses/search'\n",
    "key = '8LvBydIYL4eHYUOFKsBos9zvAGdYYO2LWCTvd0K6ePx5rt2M4hne07GJDn_PvZFb4FdgwzJ3xeX790nNBuUL_R25PW17YBnYKmMAXdLLD26b40zpoXce3tHEuaeuYXYx'\n",
    "headers = {\n",
    "    'Authorization': 'Bearer %s' % key\n",
    "}"
   ]
  },
  {
   "cell_type": "code",
   "execution_count": 57,
   "id": "d0339aa7",
   "metadata": {},
   "outputs": [
    {
     "data": {
      "text/plain": [
       "{'businesses': [{'id': '7fcTvfoW_fyGFeKp7Y7oaw',\n",
       "   'alias': 'falls-park-greenville',\n",
       "   'name': 'Falls Park',\n",
       "   'image_url': 'https://s3-media3.fl.yelpcdn.com/bphoto/QUViEqhwqw-b-4n5LLur7g/o.jpg',\n",
       "   'is_closed': False,\n",
       "   'url': 'https://www.yelp.com/biz/falls-park-greenville?adjust_creative=5rJ6NNrCaMon2QalZC-o_Q&utm_campaign=yelp_api_v3&utm_medium=api_v3_business_search&utm_source=5rJ6NNrCaMon2QalZC-o_Q',\n",
       "   'review_count': 196,\n",
       "   'categories': [{'alias': 'venues', 'title': 'Venues & Event Spaces'},\n",
       "    {'alias': 'gardens', 'title': 'Botanical Gardens'},\n",
       "    {'alias': 'parks', 'title': 'Parks'}],\n",
       "   'rating': 5.0,\n",
       "   'coordinates': {'latitude': 34.8449957, 'longitude': -82.4020099},\n",
       "   'transactions': [],\n",
       "   'location': {'address1': '601 S Main St',\n",
       "    'address2': '',\n",
       "    'address3': '',\n",
       "    'city': 'Greenville',\n",
       "    'zip_code': '29601',\n",
       "    'country': 'US',\n",
       "    'state': 'SC',\n",
       "    'display_address': ['601 S Main St', 'Greenville, SC 29601']},\n",
       "   'phone': '+18644674350',\n",
       "   'display_phone': '(864) 467-4350',\n",
       "   'distance': 3703.1126997609294},\n",
       "  {'id': 'B1ZSktZJzCei06_ReEi6Gw',\n",
       "   'alias': 'craft-axe-throwing-greenville-greenville-2',\n",
       "   'name': 'Craft Axe Throwing- Greenville',\n",
       "   'image_url': 'https://s3-media1.fl.yelpcdn.com/bphoto/4ipCN_Wub7qHvbAUu_91Kw/o.jpg',\n",
       "   'is_closed': False,\n",
       "   'url': 'https://www.yelp.com/biz/craft-axe-throwing-greenville-greenville-2?adjust_creative=5rJ6NNrCaMon2QalZC-o_Q&utm_campaign=yelp_api_v3&utm_medium=api_v3_business_search&utm_source=5rJ6NNrCaMon2QalZC-o_Q',\n",
       "   'review_count': 42,\n",
       "   'categories': [{'alias': 'axethrowing', 'title': 'Axe Throwing'}],\n",
       "   'rating': 4.5,\n",
       "   'coordinates': {'latitude': 34.86626106, 'longitude': -82.41592885},\n",
       "   'transactions': [],\n",
       "   'location': {'address1': '1320 Hampton Ave',\n",
       "    'address2': 'Unit 5A',\n",
       "    'address3': None,\n",
       "    'city': 'Greenville',\n",
       "    'zip_code': '29601',\n",
       "    'country': 'US',\n",
       "    'state': 'SC',\n",
       "    'display_address': ['1320 Hampton Ave',\n",
       "     'Unit 5A',\n",
       "     'Greenville, SC 29601']},\n",
       "   'phone': '+18643016032',\n",
       "   'display_phone': '(864) 301-6032',\n",
       "   'distance': 4963.898660566999},\n",
       "  {'id': 'TWqK7AENSYT5p79iW4X9wQ',\n",
       "   'alias': 'greenville-glides-greenville-2',\n",
       "   'name': 'Greenville Glides',\n",
       "   'image_url': 'https://s3-media3.fl.yelpcdn.com/bphoto/whZUm6NFqCPP9TLeUYrUTA/o.jpg',\n",
       "   'is_closed': False,\n",
       "   'url': 'https://www.yelp.com/biz/greenville-glides-greenville-2?adjust_creative=5rJ6NNrCaMon2QalZC-o_Q&utm_campaign=yelp_api_v3&utm_medium=api_v3_business_search&utm_source=5rJ6NNrCaMon2QalZC-o_Q',\n",
       "   'review_count': 18,\n",
       "   'categories': [{'alias': 'tours', 'title': 'Tours'}],\n",
       "   'rating': 4.0,\n",
       "   'coordinates': {'latitude': 34.8533744812012,\n",
       "    'longitude': -82.3981781005859},\n",
       "   'transactions': [],\n",
       "   'location': {'address1': '233 N Main St',\n",
       "    'address2': '',\n",
       "    'address3': '',\n",
       "    'city': 'Greenville',\n",
       "    'zip_code': '29601',\n",
       "    'country': 'US',\n",
       "    'state': 'SC',\n",
       "    'display_address': ['233 N Main St', 'Greenville, SC 29601']},\n",
       "   'phone': '+18642140119',\n",
       "   'display_phone': '(864) 214-0119',\n",
       "   'distance': 3206.457377854423}],\n",
       " 'total': 240,\n",
       " 'region': {'center': {'longitude': -82.36312866210938,\n",
       "   'latitude': 34.85549895585656}}}"
      ]
     },
     "execution_count": 57,
     "metadata": {},
     "output_type": "execute_result"
    }
   ],
   "source": [
    "# Initial Scrape\n",
    "# Define search parameters\n",
    "parameters = {\n",
    "    \"location\": '11 Century Drive, Greenville, SC 29607',\n",
    "    'limit': 3,\n",
    "    'term': 'things to do',\n",
    "    'radius': 40000 \n",
    "}\n",
    "\n",
    "# Run parameters through response and save json as data\n",
    "response = r.get(url, headers=headers, params = parameters)\n",
    "data = response.json()\n",
    "data\n",
    "\n",
    "# Make sure to walk through the results to ID key data fields\n"
   ]
  },
  {
   "cell_type": "code",
   "execution_count": 58,
   "id": "e6b4bee3",
   "metadata": {},
   "outputs": [
    {
     "data": {
      "text/plain": [
       "('307 E McBee Ave, Greenville, SC 29601', 250)"
      ]
     },
     "execution_count": 58,
     "metadata": {},
     "output_type": "execute_result"
    }
   ],
   "source": [
    "# list with 2 addresses\n",
    "addresses = ['11 Century Drive, Greenville, SC 29607', '307 E McBee Ave, Greenville, SC 29601']\n",
    "offset = np.arange(0,500,50)\n",
    "\n",
    "# Create list of tuples of combos betw. addresses and offset\n",
    "tuples = list(product(addresses, offset))\n",
    "\n",
    "# View head\n",
    "tuples[15]"
   ]
  },
  {
   "cell_type": "code",
   "execution_count": 59,
   "id": "1db1f9ca",
   "metadata": {},
   "outputs": [
    {
     "name": "stdout",
     "output_type": "stream",
     "text": [
      "Total Records: 606\n"
     ]
    },
    {
     "data": {
      "text/html": [
       "<div>\n",
       "<style scoped>\n",
       "    .dataframe tbody tr th:only-of-type {\n",
       "        vertical-align: middle;\n",
       "    }\n",
       "\n",
       "    .dataframe tbody tr th {\n",
       "        vertical-align: top;\n",
       "    }\n",
       "\n",
       "    .dataframe thead th {\n",
       "        text-align: right;\n",
       "    }\n",
       "</style>\n",
       "<table border=\"1\" class=\"dataframe\">\n",
       "  <thead>\n",
       "    <tr style=\"text-align: right;\">\n",
       "      <th></th>\n",
       "      <th>Reviews</th>\n",
       "      <th>Rating</th>\n",
       "      <th>Address</th>\n",
       "      <th>Phone</th>\n",
       "    </tr>\n",
       "    <tr>\n",
       "      <th>Name</th>\n",
       "      <th></th>\n",
       "      <th></th>\n",
       "      <th></th>\n",
       "      <th></th>\n",
       "    </tr>\n",
       "  </thead>\n",
       "  <tbody>\n",
       "    <tr>\n",
       "      <th>Vault &amp; Vator</th>\n",
       "      <td>94</td>\n",
       "      <td>4.0</td>\n",
       "      <td>655 S Main St</td>\n",
       "      <td>(864) 603-1881</td>\n",
       "    </tr>\n",
       "    <tr>\n",
       "      <th>Reys</th>\n",
       "      <td>43</td>\n",
       "      <td>4.0</td>\n",
       "      <td>20 N Main St</td>\n",
       "      <td>(864) 326-5712</td>\n",
       "    </tr>\n",
       "    <tr>\n",
       "      <th>Neat Bourbon Bar</th>\n",
       "      <td>20</td>\n",
       "      <td>4.5</td>\n",
       "      <td>109 N Main St</td>\n",
       "      <td></td>\n",
       "    </tr>\n",
       "    <tr>\n",
       "      <th>UP On The Roof</th>\n",
       "      <td>426</td>\n",
       "      <td>4.0</td>\n",
       "      <td>250 Riverplace</td>\n",
       "      <td>(864) 242-4000</td>\n",
       "    </tr>\n",
       "    <tr>\n",
       "      <th>Yee-Haw Brewing Company</th>\n",
       "      <td>156</td>\n",
       "      <td>4.0</td>\n",
       "      <td>307 E McBee Ave</td>\n",
       "      <td>(864) 605-7770</td>\n",
       "    </tr>\n",
       "  </tbody>\n",
       "</table>\n",
       "</div>"
      ],
      "text/plain": [
       "                         Reviews  Rating          Address           Phone\n",
       "Name                                                                     \n",
       "Vault & Vator                 94     4.0    655 S Main St  (864) 603-1881\n",
       "Reys                          43     4.0     20 N Main St  (864) 326-5712\n",
       "Neat Bourbon Bar              20     4.5    109 N Main St                \n",
       "UP On The Roof               426     4.0   250 Riverplace  (864) 242-4000\n",
       "Yee-Haw Brewing Company      156     4.0  307 E McBee Ave  (864) 605-7770"
      ]
     },
     "execution_count": 59,
     "metadata": {},
     "output_type": "execute_result"
    }
   ],
   "source": [
    "# for loop restaurants & bars into list of lists, turn into a dataframe\n",
    "# Empty list\n",
    "listings = []\n",
    "\n",
    "#Future DF columns\n",
    "cols = ['Name', 'Reviews', 'Rating', 'Address', 'Phone']\n",
    "\n",
    "# The loopskiii\n",
    "for address, step in tuples:\n",
    "    search_parameters = {\n",
    "        'location': address,\n",
    "        'term': 'bars' or 'restaurants',\n",
    "        'radius': 40000,\n",
    "        'limit': 50,\n",
    "        'offset': step\n",
    "    } \n",
    "    \n",
    "    response = r.get(url, headers = headers, params = search_parameters)\n",
    "    raw_data = response.json()\n",
    "    for business in raw_data['businesses']:\n",
    "        name = business['name']\n",
    "        reviews = business['review_count']\n",
    "        rating = business['rating']\n",
    "        location = business['location']['display_address'][0]\n",
    "        phone = business['display_phone']\n",
    "        listings.append([name, reviews, rating, location, phone])\n",
    "    df = pd.DataFrame.from_records(listings, index = 'Name', columns = cols)\n",
    "print(f'Total Records: {len(df)}')\n",
    "df.head()"
   ]
  },
  {
   "cell_type": "code",
   "execution_count": 60,
   "id": "12a2cb08",
   "metadata": {},
   "outputs": [
    {
     "data": {
      "text/plain": [
       "<AxesSubplot:>"
      ]
     },
     "execution_count": 60,
     "metadata": {},
     "output_type": "execute_result"
    },
    {
     "data": {
      "image/png": "[encoded data removed]",
      "text/plain": [
       "<Figure size 432x288 with 1 Axes>"
      ]
     },
     "metadata": {
      "needs_background": "light"
     },
     "output_type": "display_data"
    }
   ],
   "source": [
    "# Explore some ratings\n",
    "df['Rating'].hist()"
   ]
  },
  {
   "cell_type": "code",
   "execution_count": 61,
   "id": "e9b4a206",
   "metadata": {},
   "outputs": [
    {
     "data": {
      "text/plain": [
       "<AxesSubplot:>"
      ]
     },
     "execution_count": 61,
     "metadata": {},
     "output_type": "execute_result"
    },
    {
     "data": {
      "image/png": "[encoded data removed]",
      "text/plain": [
       "<Figure size 432x288 with 1 Axes>"
      ]
     },
     "metadata": {
      "needs_background": "light"
     },
     "output_type": "display_data"
    }
   ],
   "source": [
    "# Explore reviews\n",
    "df['Reviews'].hist()"
   ]
  },
  {
   "cell_type": "markdown",
   "id": "4afd8fce",
   "metadata": {},
   "source": [
    "# Make a Random Generator "
   ]
  },
  {
   "cell_type": "code",
   "execution_count": 62,
   "id": "b8e4c3b1",
   "metadata": {},
   "outputs": [
    {
     "data": {
      "text/html": [
       "<div>\n",
       "<style scoped>\n",
       "    .dataframe tbody tr th:only-of-type {\n",
       "        vertical-align: middle;\n",
       "    }\n",
       "\n",
       "    .dataframe tbody tr th {\n",
       "        vertical-align: top;\n",
       "    }\n",
       "\n",
       "    .dataframe thead th {\n",
       "        text-align: right;\n",
       "    }\n",
       "</style>\n",
       "<table border=\"1\" class=\"dataframe\">\n",
       "  <thead>\n",
       "    <tr style=\"text-align: right;\">\n",
       "      <th></th>\n",
       "      <th>Reviews</th>\n",
       "      <th>Rating</th>\n",
       "      <th>Address</th>\n",
       "      <th>Phone</th>\n",
       "    </tr>\n",
       "    <tr>\n",
       "      <th>Name</th>\n",
       "      <th></th>\n",
       "      <th></th>\n",
       "      <th></th>\n",
       "      <th></th>\n",
       "    </tr>\n",
       "  </thead>\n",
       "  <tbody>\n",
       "    <tr>\n",
       "      <th>SIP Whiskey &amp; Wine Bar</th>\n",
       "      <td>168</td>\n",
       "      <td>3.0</td>\n",
       "      <td>103 N Main St</td>\n",
       "      <td>(864) 552-1916</td>\n",
       "    </tr>\n",
       "  </tbody>\n",
       "</table>\n",
       "</div>"
      ],
      "text/plain": [
       "                        Reviews  Rating        Address           Phone\n",
       "Name                                                                  \n",
       "SIP Whiskey & Wine Bar      168     3.0  103 N Main St  (864) 552-1916"
      ]
     },
     "execution_count": 62,
     "metadata": {},
     "output_type": "execute_result"
    }
   ],
   "source": [
    "df.sample()"
   ]
  }
 ],
 "metadata": {
  "kernelspec": {
   "display_name": "Python 3",
   "language": "python",
   "name": "python3"
  },
  "language_info": {
   "codemirror_mode": {
    "name": "ipython",
    "version": 3
   },
   "file_extension": ".py",
   "mimetype": "text/x-python",
   "name": "python",
   "nbconvert_exporter": "python",
   "pygments_lexer": "ipython3",
   "version": "3.8.8"
  }
 },
 "nbformat": 4,
 "nbformat_minor": 5
}
